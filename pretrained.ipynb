{
 "cells": [
  {
   "cell_type": "markdown",
   "metadata": {},
   "source": [
    "# Different Pretrained Semantic Analysis Models"
   ]
  },
  {
   "cell_type": "code",
   "execution_count": 7,
   "metadata": {},
   "outputs": [],
   "source": [
    "import pandas as pd\n",
    "import matplotlib.pyplot as plt\n",
    "import numpy as np"
   ]
  },
  {
   "cell_type": "markdown",
   "metadata": {},
   "source": [
    "First, we need to import the journal dataset."
   ]
  },
  {
   "cell_type": "code",
   "execution_count": 8,
   "metadata": {},
   "outputs": [
    {
     "data": {
      "text/html": [
       "<div>\n",
       "<style scoped>\n",
       "    .dataframe tbody tr th:only-of-type {\n",
       "        vertical-align: middle;\n",
       "    }\n",
       "\n",
       "    .dataframe tbody tr th {\n",
       "        vertical-align: top;\n",
       "    }\n",
       "\n",
       "    .dataframe thead th {\n",
       "        text-align: right;\n",
       "    }\n",
       "</style>\n",
       "<table border=\"1\" class=\"dataframe\">\n",
       "  <thead>\n",
       "    <tr style=\"text-align: right;\">\n",
       "      <th></th>\n",
       "      <th>Answer</th>\n",
       "      <th>Answer.f1.afraid.raw</th>\n",
       "      <th>Answer.f1.angry.raw</th>\n",
       "      <th>Answer.f1.anxious.raw</th>\n",
       "      <th>Answer.f1.ashamed.raw</th>\n",
       "      <th>Answer.f1.awkward.raw</th>\n",
       "      <th>Answer.f1.bored.raw</th>\n",
       "      <th>Answer.f1.calm.raw</th>\n",
       "      <th>Answer.f1.confused.raw</th>\n",
       "      <th>Answer.f1.disgusted.raw</th>\n",
       "      <th>...</th>\n",
       "      <th>Answer.t1.family.raw</th>\n",
       "      <th>Answer.t1.food.raw</th>\n",
       "      <th>Answer.t1.friends.raw</th>\n",
       "      <th>Answer.t1.god.raw</th>\n",
       "      <th>Answer.t1.health.raw</th>\n",
       "      <th>Answer.t1.love.raw</th>\n",
       "      <th>Answer.t1.recreation.raw</th>\n",
       "      <th>Answer.t1.school.raw</th>\n",
       "      <th>Answer.t1.sleep.raw</th>\n",
       "      <th>Answer.t1.work.raw</th>\n",
       "    </tr>\n",
       "  </thead>\n",
       "  <tbody>\n",
       "    <tr>\n",
       "      <th>0</th>\n",
       "      <td>My family was the most salient part of my day,...</td>\n",
       "      <td>False</td>\n",
       "      <td>False</td>\n",
       "      <td>True</td>\n",
       "      <td>False</td>\n",
       "      <td>False</td>\n",
       "      <td>False</td>\n",
       "      <td>False</td>\n",
       "      <td>False</td>\n",
       "      <td>False</td>\n",
       "      <td>...</td>\n",
       "      <td>True</td>\n",
       "      <td>False</td>\n",
       "      <td>False</td>\n",
       "      <td>False</td>\n",
       "      <td>False</td>\n",
       "      <td>False</td>\n",
       "      <td>False</td>\n",
       "      <td>False</td>\n",
       "      <td>False</td>\n",
       "      <td>False</td>\n",
       "    </tr>\n",
       "    <tr>\n",
       "      <th>1</th>\n",
       "      <td>Yoga keeps me focused. I am able to take some ...</td>\n",
       "      <td>False</td>\n",
       "      <td>False</td>\n",
       "      <td>False</td>\n",
       "      <td>False</td>\n",
       "      <td>False</td>\n",
       "      <td>False</td>\n",
       "      <td>True</td>\n",
       "      <td>False</td>\n",
       "      <td>False</td>\n",
       "      <td>...</td>\n",
       "      <td>False</td>\n",
       "      <td>False</td>\n",
       "      <td>False</td>\n",
       "      <td>False</td>\n",
       "      <td>False</td>\n",
       "      <td>False</td>\n",
       "      <td>False</td>\n",
       "      <td>False</td>\n",
       "      <td>False</td>\n",
       "      <td>False</td>\n",
       "    </tr>\n",
       "    <tr>\n",
       "      <th>2</th>\n",
       "      <td>Yesterday, my family and I played a bunch of b...</td>\n",
       "      <td>False</td>\n",
       "      <td>False</td>\n",
       "      <td>False</td>\n",
       "      <td>False</td>\n",
       "      <td>False</td>\n",
       "      <td>False</td>\n",
       "      <td>True</td>\n",
       "      <td>False</td>\n",
       "      <td>False</td>\n",
       "      <td>...</td>\n",
       "      <td>True</td>\n",
       "      <td>False</td>\n",
       "      <td>False</td>\n",
       "      <td>False</td>\n",
       "      <td>False</td>\n",
       "      <td>False</td>\n",
       "      <td>False</td>\n",
       "      <td>False</td>\n",
       "      <td>False</td>\n",
       "      <td>False</td>\n",
       "    </tr>\n",
       "    <tr>\n",
       "      <th>3</th>\n",
       "      <td>Yesterday, I visited my parents and had dinner...</td>\n",
       "      <td>False</td>\n",
       "      <td>False</td>\n",
       "      <td>False</td>\n",
       "      <td>False</td>\n",
       "      <td>False</td>\n",
       "      <td>False</td>\n",
       "      <td>True</td>\n",
       "      <td>False</td>\n",
       "      <td>False</td>\n",
       "      <td>...</td>\n",
       "      <td>True</td>\n",
       "      <td>False</td>\n",
       "      <td>False</td>\n",
       "      <td>False</td>\n",
       "      <td>False</td>\n",
       "      <td>False</td>\n",
       "      <td>False</td>\n",
       "      <td>False</td>\n",
       "      <td>False</td>\n",
       "      <td>False</td>\n",
       "    </tr>\n",
       "    <tr>\n",
       "      <th>4</th>\n",
       "      <td>Yesterday, I really felt the importance of my ...</td>\n",
       "      <td>False</td>\n",
       "      <td>False</td>\n",
       "      <td>False</td>\n",
       "      <td>False</td>\n",
       "      <td>False</td>\n",
       "      <td>False</td>\n",
       "      <td>False</td>\n",
       "      <td>False</td>\n",
       "      <td>False</td>\n",
       "      <td>...</td>\n",
       "      <td>False</td>\n",
       "      <td>False</td>\n",
       "      <td>False</td>\n",
       "      <td>False</td>\n",
       "      <td>True</td>\n",
       "      <td>False</td>\n",
       "      <td>False</td>\n",
       "      <td>False</td>\n",
       "      <td>False</td>\n",
       "      <td>False</td>\n",
       "    </tr>\n",
       "  </tbody>\n",
       "</table>\n",
       "<p>5 rows × 30 columns</p>\n",
       "</div>"
      ],
      "text/plain": [
       "                                              Answer  Answer.f1.afraid.raw  \\\n",
       "0  My family was the most salient part of my day,...                 False   \n",
       "1  Yoga keeps me focused. I am able to take some ...                 False   \n",
       "2  Yesterday, my family and I played a bunch of b...                 False   \n",
       "3  Yesterday, I visited my parents and had dinner...                 False   \n",
       "4  Yesterday, I really felt the importance of my ...                 False   \n",
       "\n",
       "   Answer.f1.angry.raw  Answer.f1.anxious.raw  Answer.f1.ashamed.raw  \\\n",
       "0                False                   True                  False   \n",
       "1                False                  False                  False   \n",
       "2                False                  False                  False   \n",
       "3                False                  False                  False   \n",
       "4                False                  False                  False   \n",
       "\n",
       "   Answer.f1.awkward.raw  Answer.f1.bored.raw  Answer.f1.calm.raw  \\\n",
       "0                  False                False               False   \n",
       "1                  False                False                True   \n",
       "2                  False                False                True   \n",
       "3                  False                False                True   \n",
       "4                  False                False               False   \n",
       "\n",
       "   Answer.f1.confused.raw  Answer.f1.disgusted.raw  ...  Answer.t1.family.raw  \\\n",
       "0                   False                    False  ...                  True   \n",
       "1                   False                    False  ...                 False   \n",
       "2                   False                    False  ...                  True   \n",
       "3                   False                    False  ...                  True   \n",
       "4                   False                    False  ...                 False   \n",
       "\n",
       "   Answer.t1.food.raw  Answer.t1.friends.raw  Answer.t1.god.raw  \\\n",
       "0               False                  False              False   \n",
       "1               False                  False              False   \n",
       "2               False                  False              False   \n",
       "3               False                  False              False   \n",
       "4               False                  False              False   \n",
       "\n",
       "   Answer.t1.health.raw  Answer.t1.love.raw  Answer.t1.recreation.raw  \\\n",
       "0                 False               False                     False   \n",
       "1                 False               False                     False   \n",
       "2                 False               False                     False   \n",
       "3                 False               False                     False   \n",
       "4                  True               False                     False   \n",
       "\n",
       "   Answer.t1.school.raw  Answer.t1.sleep.raw  Answer.t1.work.raw  \n",
       "0                 False                False               False  \n",
       "1                 False                False               False  \n",
       "2                 False                False               False  \n",
       "3                 False                False               False  \n",
       "4                 False                False               False  \n",
       "\n",
       "[5 rows x 30 columns]"
      ]
     },
     "execution_count": 8,
     "metadata": {},
     "output_type": "execute_result"
    }
   ],
   "source": [
    "journals_df = pd.read_csv('journal_data.csv')\n",
    "journals_df.head()"
   ]
  },
  {
   "cell_type": "markdown",
   "metadata": {},
   "source": [
    "Let's see an example of a journal entry."
   ]
  },
  {
   "cell_type": "code",
   "execution_count": 9,
   "metadata": {},
   "outputs": [
    {
     "data": {
      "text/plain": [
       "'My family was the most salient part of my day, since most days the care of my 2 children occupies the majority of my time. They are 2 years old and 7 months and I love them, but they also require so much attention that my anxiety is higher than ever. I am often overwhelmed by the care the require, but at the same, I am so excited to see them hit developmental and social milestones.'"
      ]
     },
     "execution_count": 9,
     "metadata": {},
     "output_type": "execute_result"
    }
   ],
   "source": [
    "journals_df['Answer'][0]"
   ]
  },
  {
   "cell_type": "markdown",
   "metadata": {},
   "source": [
    "For now, we are only concerned about the text of the entries."
   ]
  },
  {
   "cell_type": "code",
   "execution_count": 10,
   "metadata": {},
   "outputs": [
    {
     "data": {
      "text/plain": [
       "0    My family was the most salient part of my day,...\n",
       "1    Yoga keeps me focused. I am able to take some ...\n",
       "2    Yesterday, my family and I played a bunch of b...\n",
       "3    Yesterday, I visited my parents and had dinner...\n",
       "4    Yesterday, I really felt the importance of my ...\n",
       "Name: Answer, dtype: object"
      ]
     },
     "execution_count": 10,
     "metadata": {},
     "output_type": "execute_result"
    }
   ],
   "source": [
    "text_entries = journals_df['Answer']\n",
    "text_entries.head()"
   ]
  },
  {
   "cell_type": "markdown",
   "metadata": {},
   "source": [
    "## Textblob"
   ]
  },
  {
   "cell_type": "markdown",
   "metadata": {},
   "source": [
    "It is a simple python library that offers API access to different NLP tasks such as sentiment analysis, spelling correction, etc.\n",
    "\n",
    "Textblob sentiment analyzer returns two properties for a given input sentence: \n",
    "\n",
    "Polarity is a float that lies between [-1,1], -1 indicates negative sentiment and +1 indicates positive sentiments. \n",
    "Subjectivity is also a float which lies in the range of [0,1]. Subjective sentences generally refer to personal opinion, emotion, or judgment. \n"
   ]
  },
  {
   "cell_type": "code",
   "execution_count": 11,
   "metadata": {},
   "outputs": [],
   "source": [
    "from textblob import TextBlob"
   ]
  },
  {
   "cell_type": "code",
   "execution_count": 12,
   "metadata": {},
   "outputs": [
    {
     "data": {
      "text/plain": [
       "Sentiment(polarity=1.0, subjectivity=0.75)"
      ]
     },
     "execution_count": 12,
     "metadata": {},
     "output_type": "execute_result"
    }
   ],
   "source": [
    "testimonial = TextBlob(\"The food was great!\")\n",
    "testimonial.sentiment"
   ]
  },
  {
   "cell_type": "code",
   "execution_count": 13,
   "metadata": {},
   "outputs": [
    {
     "data": {
      "text/plain": [
       "Sentiment(polarity=0.27314814814814814, subjectivity=0.3824074074074074)"
      ]
     },
     "execution_count": 13,
     "metadata": {},
     "output_type": "execute_result"
    }
   ],
   "source": [
    "entry_tb = TextBlob(text_entries[0])\n",
    "entry_tb.sentiment"
   ]
  },
  {
   "cell_type": "markdown",
   "metadata": {},
   "source": [
    "Let's make a table based off of our journal entries and textblob's sentiment analysis"
   ]
  },
  {
   "cell_type": "code",
   "execution_count": 14,
   "metadata": {},
   "outputs": [
    {
     "data": {
      "text/html": [
       "<div>\n",
       "<style scoped>\n",
       "    .dataframe tbody tr th:only-of-type {\n",
       "        vertical-align: middle;\n",
       "    }\n",
       "\n",
       "    .dataframe tbody tr th {\n",
       "        vertical-align: top;\n",
       "    }\n",
       "\n",
       "    .dataframe thead th {\n",
       "        text-align: right;\n",
       "    }\n",
       "</style>\n",
       "<table border=\"1\" class=\"dataframe\">\n",
       "  <thead>\n",
       "    <tr style=\"text-align: right;\">\n",
       "      <th></th>\n",
       "      <th>entry</th>\n",
       "      <th>polarity</th>\n",
       "      <th>subjectivity</th>\n",
       "      <th>length</th>\n",
       "    </tr>\n",
       "  </thead>\n",
       "  <tbody>\n",
       "    <tr>\n",
       "      <th>0</th>\n",
       "      <td>My family was the most salient part of my day,...</td>\n",
       "      <td>0.273148</td>\n",
       "      <td>0.382407</td>\n",
       "      <td>384</td>\n",
       "    </tr>\n",
       "    <tr>\n",
       "      <th>1</th>\n",
       "      <td>Yoga keeps me focused. I am able to take some ...</td>\n",
       "      <td>0.366667</td>\n",
       "      <td>0.675000</td>\n",
       "      <td>150</td>\n",
       "    </tr>\n",
       "    <tr>\n",
       "      <th>2</th>\n",
       "      <td>Yesterday, my family and I played a bunch of b...</td>\n",
       "      <td>0.231250</td>\n",
       "      <td>0.562500</td>\n",
       "      <td>248</td>\n",
       "    </tr>\n",
       "    <tr>\n",
       "      <th>3</th>\n",
       "      <td>Yesterday, I visited my parents and had dinner...</td>\n",
       "      <td>0.400000</td>\n",
       "      <td>0.550000</td>\n",
       "      <td>149</td>\n",
       "    </tr>\n",
       "    <tr>\n",
       "      <th>4</th>\n",
       "      <td>Yesterday, I really felt the importance of my ...</td>\n",
       "      <td>0.314286</td>\n",
       "      <td>0.442857</td>\n",
       "      <td>333</td>\n",
       "    </tr>\n",
       "  </tbody>\n",
       "</table>\n",
       "</div>"
      ],
      "text/plain": [
       "                                               entry  polarity  subjectivity  \\\n",
       "0  My family was the most salient part of my day,...  0.273148      0.382407   \n",
       "1  Yoga keeps me focused. I am able to take some ...  0.366667      0.675000   \n",
       "2  Yesterday, my family and I played a bunch of b...  0.231250      0.562500   \n",
       "3  Yesterday, I visited my parents and had dinner...  0.400000      0.550000   \n",
       "4  Yesterday, I really felt the importance of my ...  0.314286      0.442857   \n",
       "\n",
       "   length  \n",
       "0     384  \n",
       "1     150  \n",
       "2     248  \n",
       "3     149  \n",
       "4     333  "
      ]
     },
     "execution_count": 14,
     "metadata": {},
     "output_type": "execute_result"
    }
   ],
   "source": [
    "new_df = []\n",
    "for entry in text_entries:\n",
    "    curr = TextBlob(entry)\n",
    "    new_df.append([entry, curr.polarity, curr.subjectivity, len(entry)])\n",
    "\n",
    "textblob_df = pd.DataFrame(new_df, columns=['entry', 'polarity', 'subjectivity', 'length'])\n",
    "textblob_df.head()"
   ]
  },
  {
   "cell_type": "markdown",
   "metadata": {},
   "source": [
    "##### Visualize"
   ]
  },
  {
   "cell_type": "markdown",
   "metadata": {},
   "source": [
    "Let's plot the polarity to see if there's more positive, negative, or neutral entries based on the TextBlob sentiment analysis."
   ]
  },
  {
   "cell_type": "code",
   "execution_count": 15,
   "metadata": {},
   "outputs": [
    {
     "data": {
      "image/png": "[encoded data removed]",
      "text/plain": [
       "<Figure size 432x288 with 1 Axes>"
      ]
     },
     "metadata": {
      "needs_background": "light"
     },
     "output_type": "display_data"
    }
   ],
   "source": [
    "plt.hist(textblob_df['polarity'], bins=[-1, -0.5, 0, 0.5, 1], edgecolor='k')\n",
    "plt.xlabel('Sentiment Polarity')\n",
    "plt.ylabel('Count')\n",
    "plt.title('Sentiment Polarity Distribution')\n",
    "plt.show()\n"
   ]
  },
  {
   "cell_type": "markdown",
   "metadata": {},
   "source": [
    "From the length, we can see the longer the entry, the more neutral sentiment determinations we get. This could be because the more words in the entry, the harder it is for the model to make an accurate determination, therefore just placing it in the neutral category."
   ]
  },
  {
   "cell_type": "code",
   "execution_count": 16,
   "metadata": {},
   "outputs": [
    {
     "data": {
      "image/png": "[encoded data removed]",
      "text/plain": [
       "<Figure size 432x288 with 2 Axes>"
      ]
     },
     "metadata": {
      "needs_background": "light"
     },
     "output_type": "display_data"
    }
   ],
   "source": [
    "polarities = textblob_df['polarity']\n",
    "\n",
    "# Define a custom normalization function to map -1 to 0, 0 to 0.5, and 1 to 1\n",
    "def custom_normalize(x):\n",
    "    if x < 0:\n",
    "        return 0.5 * (x + 1)\n",
    "    else:\n",
    "        return 0.5 * x + 0.5\n",
    "\n",
    "# Apply the custom normalization function to the polarities\n",
    "normalized_polarities = polarities.apply(custom_normalize)\n",
    "\n",
    "# Create a colormap that ranges from 0 to 1 (which corresponds to -1 to 1)\n",
    "colors = plt.cm.RdYlGn(normalized_polarities)\n",
    "\n",
    "plt.scatter(textblob_df['polarity'], textblob_df['length'], c=colors)\n",
    "plt.xlabel('Sentiment Polarity')\n",
    "plt.ylabel('Entry Length')\n",
    "plt.title('TextBlob Scatter Plot by Polarity & Length')\n",
    "plt.colorbar(label='Sentiment Polarity')\n",
    "plt.show()\n"
   ]
  },
  {
   "cell_type": "code",
   "execution_count": 17,
   "metadata": {},
   "outputs": [
    {
     "data": {
      "image/png": "[encoded data removed]",
      "text/plain": [
       "<Figure size 432x288 with 2 Axes>"
      ]
     },
     "metadata": {
      "needs_background": "light"
     },
     "output_type": "display_data"
    }
   ],
   "source": [
    "polarities = textblob_df['polarity']\n",
    "\n",
    "# Define a custom normalization function to map -1 to 0, 0 to 0.5, and 1 to 1\n",
    "def custom_normalize(x):\n",
    "    if x < 0:\n",
    "        return 0.5 * (x + 1)\n",
    "    else:\n",
    "        return 0.5 * x + 0.5\n",
    "\n",
    "# Apply the custom normalization function to the polarities\n",
    "normalized_polarities = polarities.apply(custom_normalize)\n",
    "\n",
    "# Create a colormap that ranges from 0 to 1 (which corresponds to -1 to 1)\n",
    "colors = plt.cm.RdYlGn(normalized_polarities)\n",
    "\n",
    "plt.scatter(textblob_df['polarity'], textblob_df['subjectivity'], c=colors)  # Replace 'some_other_variable' with your data\n",
    "plt.xlabel('Polarity')\n",
    "plt.ylabel('Subjectivity')\n",
    "plt.title('TextBlob Scatter Plot by Polarity & Subjectivity')\n",
    "plt.colorbar(label='Sentiment Polarity')\n",
    "plt.show()"
   ]
  },
  {
   "cell_type": "markdown",
   "metadata": {},
   "source": [
    "### VADER Sentiment"
   ]
  },
  {
   "cell_type": "markdown",
   "metadata": {},
   "source": [
    "[Valence aware dictionary for sentiment reasoning (VADER)](https://pypi.org/project/vaderSentiment/) is another popular rule-based sentiment analyzer. \n",
    "\n",
    "It uses a list of lexical features (e.g. word) which are labeled as positive or negative according to their semantic orientation to calculate the text sentiment.   \n",
    "\n",
    "Vader sentiment returns the probability of a given input sentence to be \n",
    "\n",
    "Positive, negative, and neutral. \n",
    "\n",
    "For example:\n",
    "\n",
    "“The food was great!”\n",
    "Positive : 99%\n",
    "Negative : 1%\n",
    "Neutral : 0%\n",
    "\n",
    "These three probabilities will add up to 100%."
   ]
  },
  {
   "cell_type": "code",
   "execution_count": 18,
   "metadata": {},
   "outputs": [],
   "source": [
    "from vaderSentiment.vaderSentiment import SentimentIntensityAnalyzer"
   ]
  },
  {
   "cell_type": "code",
   "execution_count": 19,
   "metadata": {},
   "outputs": [
    {
     "name": "stdout",
     "output_type": "stream",
     "text": [
      "The food was great! {'neg': 0.0, 'neu': 0.406, 'pos': 0.594, 'compound': 0.6588}\n"
     ]
    }
   ],
   "source": [
    "analyzer = SentimentIntensityAnalyzer()\n",
    "sentence = \"The food was great!\"\n",
    "vs = analyzer.polarity_scores(sentence)\n",
    "print(\"{} {}\".format(sentence, str(vs)))"
   ]
  },
  {
   "cell_type": "code",
   "execution_count": 21,
   "metadata": {},
   "outputs": [
    {
     "name": "stdout",
     "output_type": "stream",
     "text": [
      "{'neg': 0.023, 'neu': 0.79, 'pos': 0.187, 'compound': 0.9224}\n"
     ]
    }
   ],
   "source": [
    "entry = text_entries[0]\n",
    "vs = analyzer.polarity_scores(entry)\n",
    "print(str(vs))"
   ]
  },
  {
   "cell_type": "markdown",
   "metadata": {},
   "source": [
    "Let's make a table based off of our journal entries and vader's sentiment analysis.\n",
    "To make visualizing data easier, we will just assign a determination based on the highest rated determination.\n",
    "For example, if the determinations are 2% neutral, 18% negative, and 80% positive, then we will just classify it as positive."
   ]
  },
  {
   "cell_type": "code",
   "execution_count": 29,
   "metadata": {},
   "outputs": [
    {
     "data": {
      "text/html": [
       "<div>\n",
       "<style scoped>\n",
       "    .dataframe tbody tr th:only-of-type {\n",
       "        vertical-align: middle;\n",
       "    }\n",
       "\n",
       "    .dataframe tbody tr th {\n",
       "        vertical-align: top;\n",
       "    }\n",
       "\n",
       "    .dataframe thead th {\n",
       "        text-align: right;\n",
       "    }\n",
       "</style>\n",
       "<table border=\"1\" class=\"dataframe\">\n",
       "  <thead>\n",
       "    <tr style=\"text-align: right;\">\n",
       "      <th></th>\n",
       "      <th>entry</th>\n",
       "      <th>normalized_polarity</th>\n",
       "      <th>sentiment</th>\n",
       "      <th>length</th>\n",
       "      <th>neg</th>\n",
       "      <th>neu</th>\n",
       "      <th>pos</th>\n",
       "    </tr>\n",
       "  </thead>\n",
       "  <tbody>\n",
       "    <tr>\n",
       "      <th>0</th>\n",
       "      <td>My family was the most salient part of my day,...</td>\n",
       "      <td>0.5</td>\n",
       "      <td>neu</td>\n",
       "      <td>384</td>\n",
       "      <td>0.023</td>\n",
       "      <td>0.790</td>\n",
       "      <td>0.187</td>\n",
       "    </tr>\n",
       "    <tr>\n",
       "      <th>1</th>\n",
       "      <td>Yoga keeps me focused. I am able to take some ...</td>\n",
       "      <td>0.5</td>\n",
       "      <td>neu</td>\n",
       "      <td>150</td>\n",
       "      <td>0.000</td>\n",
       "      <td>0.872</td>\n",
       "      <td>0.128</td>\n",
       "    </tr>\n",
       "    <tr>\n",
       "      <th>2</th>\n",
       "      <td>Yesterday, my family and I played a bunch of b...</td>\n",
       "      <td>0.5</td>\n",
       "      <td>neu</td>\n",
       "      <td>248</td>\n",
       "      <td>0.066</td>\n",
       "      <td>0.628</td>\n",
       "      <td>0.305</td>\n",
       "    </tr>\n",
       "    <tr>\n",
       "      <th>3</th>\n",
       "      <td>Yesterday, I visited my parents and had dinner...</td>\n",
       "      <td>0.5</td>\n",
       "      <td>neu</td>\n",
       "      <td>149</td>\n",
       "      <td>0.000</td>\n",
       "      <td>0.880</td>\n",
       "      <td>0.120</td>\n",
       "    </tr>\n",
       "    <tr>\n",
       "      <th>4</th>\n",
       "      <td>Yesterday, I really felt the importance of my ...</td>\n",
       "      <td>0.5</td>\n",
       "      <td>neu</td>\n",
       "      <td>333</td>\n",
       "      <td>0.110</td>\n",
       "      <td>0.716</td>\n",
       "      <td>0.174</td>\n",
       "    </tr>\n",
       "  </tbody>\n",
       "</table>\n",
       "</div>"
      ],
      "text/plain": [
       "                                               entry  normalized_polarity  \\\n",
       "0  My family was the most salient part of my day,...                  0.5   \n",
       "1  Yoga keeps me focused. I am able to take some ...                  0.5   \n",
       "2  Yesterday, my family and I played a bunch of b...                  0.5   \n",
       "3  Yesterday, I visited my parents and had dinner...                  0.5   \n",
       "4  Yesterday, I really felt the importance of my ...                  0.5   \n",
       "\n",
       "  sentiment  length    neg    neu    pos  \n",
       "0       neu     384  0.023  0.790  0.187  \n",
       "1       neu     150  0.000  0.872  0.128  \n",
       "2       neu     248  0.066  0.628  0.305  \n",
       "3       neu     149  0.000  0.880  0.120  \n",
       "4       neu     333  0.110  0.716  0.174  "
      ]
     },
     "execution_count": 29,
     "metadata": {},
     "output_type": "execute_result"
    }
   ],
   "source": [
    "new_df = []\n",
    "for entry in text_entries:\n",
    "    curr = analyzer.polarity_scores(entry)\n",
    "    det = max([curr['neg'], curr['neu'], curr['pos']])\n",
    "    normalized_det = 0\n",
    "    final_det = ''\n",
    "    if det == curr['neg']:\n",
    "        normalized_det = 0.0\n",
    "        final_det = 'neg'\n",
    "    elif det == curr['neu']:\n",
    "        normalized_det = 0.5\n",
    "        final_det ='neu'\n",
    "    else:\n",
    "        normalized_det = 1\n",
    "        final_det = 'pos'\n",
    "    new_df.append([entry, normalized_det, final_det, len(entry), curr['neg'], curr['neu'], curr['pos']])\n",
    "\n",
    "vader_df = pd.DataFrame(new_df, columns=['entry', 'normalized_polarity', 'sentiment', 'length', 'neg', 'neu', 'pos'])\n",
    "vader_df.head()"
   ]
  },
  {
   "cell_type": "markdown",
   "metadata": {},
   "source": [
    "##### Visualize"
   ]
  },
  {
   "cell_type": "markdown",
   "metadata": {},
   "source": [
    "Let's plot the polarity to see if there's more positive, negative, or neutral entries based on the Vader sentiment analysis."
   ]
  },
  {
   "cell_type": "code",
   "execution_count": 33,
   "metadata": {},
   "outputs": [
    {
     "data": {
      "image/png": "[encoded data removed]",
      "text/plain": [
       "<Figure size 432x288 with 1 Axes>"
      ]
     },
     "metadata": {
      "needs_background": "light"
     },
     "output_type": "display_data"
    }
   ],
   "source": [
    "plt.hist(vader_df['normalized_polarity'], bins=[0, 0.5, 1], edgecolor='k')\n",
    "plt.xlabel('Sentiment Polarity')\n",
    "plt.ylabel('Count')\n",
    "plt.title('Sentiment Polarity Distribution')\n",
    "plt.show()"
   ]
  },
  {
   "cell_type": "code",
   "execution_count": 35,
   "metadata": {},
   "outputs": [
    {
     "data": {
      "image/png": "[encoded data removed]",
      "text/plain": [
       "<Figure size 432x288 with 2 Axes>"
      ]
     },
     "metadata": {
      "needs_background": "light"
     },
     "output_type": "display_data"
    }
   ],
   "source": [
    "polarities = vader_df['normalized_polarity']\n",
    "\n",
    "# Create a colormap that ranges from 0 to 1 (which corresponds to -1 to 1)\n",
    "colors = plt.cm.RdYlGn(polarities)\n",
    "\n",
    "plt.scatter(vader_df['normalized_polarity'], vader_df['length'], c=colors)\n",
    "plt.xlabel('Sentiment Polarity')\n",
    "plt.ylabel('Entry Length')\n",
    "plt.title('Vader Scatter Plot by Polarity & Length')\n",
    "plt.colorbar(label='Sentiment Polarity')\n",
    "plt.show()\n"
   ]
  },
  {
   "cell_type": "markdown",
   "metadata": {},
   "source": [
    "From this we can see that nearly all of the VADER determinations have been neutral. This shows that it does not do a good job of making determinations on journal entries, and decyphering between positive and negative. This most likely due to it's training, as Vader is optimized for social media data and can yield good results when used with data from twitter, facebook, etc. Also,  with the rule-based approach for sentiment analysis  the method only cares about individual words and completely ignores the context in which it is used. "
   ]
  },
  {
   "cell_type": "markdown",
   "metadata": {},
   "source": [
    "## Flair"
   ]
  },
  {
   "cell_type": "markdown",
   "metadata": {},
   "source": []
  }
 ],
 "metadata": {
  "kernelspec": {
   "display_name": "Python 3",
   "language": "python",
   "name": "python3"
  },
  "language_info": {
   "codemirror_mode": {
    "name": "ipython",
    "version": 3
   },
   "file_extension": ".py",
   "mimetype": "text/x-python",
   "name": "python",
   "nbconvert_exporter": "python",
   "pygments_lexer": "ipython3",
   "version": "3.10.5"
  },
  "orig_nbformat": 4
 },
 "nbformat": 4,
 "nbformat_minor": 2
}
